{
 "cells": [
  {
   "cell_type": "code",
   "execution_count": 40,
   "metadata": {},
   "outputs": [],
   "source": [
    "import pandas as pd\n",
    "import numpy as np\n",
    "from sklearn.cluster import *\n",
    "import matplotlib.pyplot as plt\n",
    "import time\n",
    "from sklearn.preprocessing import StandardScaler\n",
    "#dataset Extraction\n",
    "X= pd.read_csv(\"winequality-red.csv\")\n",
    "#data = np.array(X)\n",
    "data = StandardScaler().fit_transform(X)"
   ]
  },
  {
   "cell_type": "code",
   "execution_count": 41,
   "metadata": {},
   "outputs": [
    {
     "name": "stdout",
     "output_type": "stream",
     "text": [
      "Kmeans Clustering took 0.38 s\n",
      "[1 1 1 ... 6 6 3]\n"
     ]
    }
   ],
   "source": [
    "#Kmeans clustering considering default setting of algorithm\n",
    "n_cluster = {2} #will vary the number of clusters later on\n",
    "kmeans = KMeans()\n",
    "start_time = time.time()\n",
    "labels = kmeans.fit_predict(data)\n",
    "end_time = time.time()\n",
    "#plt.text(-0.5, 0.7, 'Clustering took {:.2f} s'.format(end_time - start_time), fontsize=14)\n",
    "print('Kmeans Clustering took {:.2f} s'.format(end_time - start_time))\n",
    "print(labels)"
   ]
  },
  {
   "cell_type": "code",
   "execution_count": 51,
   "metadata": {},
   "outputs": [
    {
     "name": "stdout",
     "output_type": "stream",
     "text": [
      "Silhoute Score:  0.14080264006008397\n",
      "Davies Bouldin Score:  1.5855248403379063\n",
      "Calinski Harabasz Score:  234.7474488260796\n"
     ]
    }
   ],
   "source": [
    "#Evaluattion\n",
    "from sklearn.metrics import *\n",
    "\n",
    "sil_score = metrics.silhouette_score(data,labels)\n",
    "dav_score = davies_bouldin_score(data, labels)\n",
    "cal_score = metrics.calinski_harabasz_score(data, labels)\n",
    "print('Silhoute Score: ',sil_score)\n",
    "print('Davies Bouldin Score: ',dav_score)\n",
    "print('Calinski Harabasz Score: ',cal_score)\n",
    "#cluster.contingency_matrix(data,labels)\n"
   ]
  }
 ],
 "metadata": {
  "kernelspec": {
   "display_name": "Python 3",
   "language": "python",
   "name": "python3"
  },
  "language_info": {
   "codemirror_mode": {
    "name": "ipython",
    "version": 3
   },
   "file_extension": ".py",
   "mimetype": "text/x-python",
   "name": "python",
   "nbconvert_exporter": "python",
   "pygments_lexer": "ipython3",
   "version": "3.7.3"
  }
 },
 "nbformat": 4,
 "nbformat_minor": 2
}
